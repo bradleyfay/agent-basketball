{
 "metadata": {
  "name": "Basketball Simulator"
 },
 "nbformat": 3,
 "nbformat_minor": 0,
 "worksheets": [
  {
   "cells": [
    {
     "cell_type": "code",
     "collapsed": false,
     "input": "import random, math\nimport numpy as np",
     "language": "python",
     "metadata": {},
     "outputs": [],
     "prompt_number": 2
    },
    {
     "cell_type": "markdown",
     "metadata": {},
     "source": "Basketball Simulation Code\n===\n\nOur goal for this project is to create a monte carlo simulation model "
    },
    {
     "cell_type": "markdown",
     "metadata": {},
     "source": "***\n###`oncourt(team)` \nthis function chooses which players are on the court during a given possession. This takes in information on the team as an argument which must be a dictionary. Team is made up of players and one of the player attributes needs to be minutes played.  Returns a list of five players.\n---\n####We need to build this as a method of the `team` class. Then for each possession, we can call `HomeTeam.oncourt()`"
    },
    {
     "cell_type": "code",
     "collapsed": false,
     "input": "def oncourt(team):        \n    playermin =[]\n    for x in team:\n        playermin.append(x.minutes())\n    \n    totalmin = sum(playermin)\n    \n    \n    \n    for x in team:\n        x.playprob(playermin)\n    \n    \n    for x in team:\n        \n    for key in keys:\n        pp_team.extend([key]*team[key][pl_min])\n\n    active = []\n    while len(active)<=4:\n        add = random.choice(pp_team)\n        try:\n            active.index(add)\n        except ValueError:\n            active.append(add)\n    return active",
     "language": "python",
     "metadata": {},
     "outputs": [],
     "prompt_number": 95
    },
    {
     "cell_type": "code",
     "collapsed": false,
     "input": "HomeOnCourt = oncourt(HomeTeam)\nAwayOnCourt = oncourt(AwayTeam)",
     "language": "python",
     "metadata": {},
     "outputs": []
    },
    {
     "cell_type": "code",
     "collapsed": false,
     "input": "playermin=[]\nfor x in TeamFirstYear:\n    playermin.append(x.minutes())\n    ",
     "language": "python",
     "metadata": {},
     "outputs": [],
     "prompt_number": 197
    },
    {
     "cell_type": "code",
     "collapsed": false,
     "input": "HomeTeam[4].persfoul()\nHomeTeam[4].game_pfoul",
     "language": "python",
     "metadata": {},
     "outputs": [
      {
       "output_type": "stream",
       "stream": "stdout",
       "text": "Amanda Miller committed a personal foul\n"
      },
      {
       "output_type": "pyout",
       "prompt_number": 12,
       "text": "1"
      }
     ],
     "prompt_number": 12
    },
    {
     "cell_type": "code",
     "collapsed": false,
     "input": "HomeTeam[4].playprob(389)\nHomeTeam[4]._PT",
     "language": "python",
     "metadata": {},
     "outputs": [
      {
       "output_type": "pyout",
       "prompt_number": 14,
       "text": "0.2544987146529563"
      }
     ],
     "prompt_number": 14
    },
    {
     "cell_type": "markdown",
     "metadata": {},
     "source": "***"
    },
    {
     "cell_type": "code",
     "collapsed": false,
     "input": "daniel= [15, 8, 3, 20, 17, 8, .18, 99, .04, 'McIntosh', 'Daniel', 'FirstYear']\nbradley= [15, 8, 3, 20, 17, 8, .18, 99, .04, 'Fay', 'Bradley', 'FirstYear']\ntom= [15, 8, 3, 20, 17, 8, .18, 99, .04, 'Scovic', 'Tom', 'FirstYear']\njohn= [15, 8, 3, 20, 17, 8, .18, 99, .04, 'Prewitt', 'John', 'FirstYear']\namanda= [15, 8, 3, 20, 17, 8, .18, 99, .04, 'Miller', 'Amanda', 'FirstYear']\ncameron= [15, 8, 3, 20, 17, 8, .18, 99, .04, 'North', 'Cameron', 'FirstYear']\nlindsay= [15, 8, 3, 20, 17, 8, .18, 99, .04, 'Nicholl', 'Lindsay', 'FirstYear']\njennifer= [15, 8, 3, 20, 17, 8, .18, 99, .04, 'Clark', 'Jenn', 'FirstYear']\nalyson= [15, 8, 3, 20, 17, 8, .18, 99, .04, 'Boyd', 'Alyson', 'FirstYear']\ngordon= [15, 8, 3, 20, 17, 8, .18, 99, .04, 'Crape', 'Gordon', 'FirstYear']\nkristen= [15, 8, 3, 20, 17, 8, .18, 99, .04, 'Arnold', 'Kristen', 'FirstYear']\n\nclee = [15, 8, 3, 20, 17, 8, .18, 99, .04, 'Lee', 'Kristen', 'SecondYear']\nbourke = [15, 8, 3, 20, 17, 8, .18, 99, .04, 'Bourke', 'Kristen', 'SecondYear']\ngerken = [15, 8, 3, 20, 17, 8, .18, 99, .04, 'Gerken', 'Kristen', 'SecondYear']\nmilan = [15, 8, 3, 20, 17, 8, .18, 99, .04, 'Milan', 'Kristen', 'SecondYear']\nwalsh = [15, 8, 3, 20, 17, 8, .18, 99, .04, 'Walsh', 'Kristen', 'SecondYear']\nrubens = [15, 8, 3, 20, 17, 8, .18, 99, .04, 'Rubens', 'Kristen', 'SecondYear']\nsambrook = [15, 8, 3, 20, 17, 8, .18, 99, .04, 'Sambrook', 'Kristen', 'SecondYear']\nlang = [15, 8, 3, 20, 17, 8, .18, 99, .04, 'Lang', 'Kristen', 'SecondYear']\nmooney = [15, 8, 3, 20, 17, 8, .18, 99, .04, 'Mooney', 'Kristen', 'SecondYear']\nyanni = [15, 8, 3, 20, 17, 8, .18, 99, .04, 'Yanni', 'Kristen', 'SecondYear']\n\n#firstyear = {0:daniel,1:bradley,2:tom,3:john,4:amanda,5:cameron,6:lindsay,7:jennifer,8:alyson,9:gordon,10:kristen}\n#secondyear = {0:clee,1:bourke,2:gerken,3:milan,4:walsh,5:rubens,6:sambrook,7:lang,8:mooney,9:yanni}\n\nfirstyear = [daniel, bradley, tom, john, amanda, cameron, lindsay, jennifer, alyson, gordon, kristen]\nHomeTeam = [Player(teammate) for teammate in firstyear]\n\nsecondyear = [clee, bourke, gerken, milan, walsh, rubens, sambrook, lang, mooney, yanni]\nAwayTeam = [Player(teammate) for teammate in secondyear]\n\n\nmatchup = (firstyear, secondyear)\nscore = [0,0]",
     "language": "python",
     "metadata": {},
     "outputs": [],
     "prompt_number": 76
    },
    {
     "cell_type": "code",
     "collapsed": false,
     "input": "for x in AwayTeam:\n    print x.lastName()",
     "language": "python",
     "metadata": {},
     "outputs": [
      {
       "output_type": "stream",
       "stream": "stdout",
       "text": "Lee\nBourke\nGerken\nMilan\nWalsh\nRubens\nSambrook\nLang\nMooney\nYanni\n"
      }
     ],
     "prompt_number": 8
    },
    {
     "cell_type": "code",
     "collapsed": false,
     "input": "def get_counts(sequence):\n    counts = {}\n    for x in sequence:\n        if x in counts:\n            counts[x] += 1\n        else:\n            counts[x] = 1\n    return counts",
     "language": "python",
     "metadata": {},
     "outputs": [],
     "prompt_number": 93
    },
    {
     "cell_type": "code",
     "collapsed": false,
     "input": "players=[]\nx=0\nwhile x<1000:\n    players.append(oncourt(firstyear))\n    x+=1\nplayingtime=[]\nfor x in players:\n    for y in x:\n        playingtime.append(y)\n        \n        \nget_counts(playingtime)",
     "language": "python",
     "metadata": {},
     "outputs": [
      {
       "output_type": "pyout",
       "prompt_number": 102,
       "text": "{0: 772,\n 1: 296,\n 2: 863,\n 3: 254,\n 4: 272,\n 5: 246,\n 6: 268,\n 7: 259,\n 8: 585,\n 9: 902,\n 10: 283}"
      }
     ],
     "prompt_number": 102
    },
    {
     "cell_type": "markdown",
     "metadata": {},
     "source": "***\n###`ShotFunction`"
    },
    {
     "cell_type": "code",
     "collapsed": false,
     "input": "def shotfunction(player):\n    twocount = player[4]     ##Map this to the rate at which a player shoots 2pts  \n    threecount = player[5]   ##Map this to the rate at which a player shoots 3pts\n    ftcount = player[3]\n    twomake = player[1]/1000.0     ##Map this to the players success rate at 2ptrs       \n    threemake = player[2]/1000.0   ##Map this to the players success rate at 3ptrs      \n    ftmake = player[0]/1000.0      ##Map this to the players success rate at Free Throws \n    success = 0\n    \n    totalshots = twocount + threecount + ftcount      ##Double check to make sure FT's aren't overweighted using this\n  \n    #Choosing the type of shot taken\n    shottype = np.random.uniform(0,totalshots)\n    if shottype <= twocount:   #Two point\n        success = np.random.binomial(1,twomake)*2\n        if success>0:\n            print \"%s made a 2 pointer\" % player\n        else:\n            print \"%s missed a 2 pointer\" %player\n    elif shottype <= (twocount+threecount):  ##Three pointer\n        success = np.random.binomial(1,threemake)*3\n        if success>0:\n            print \"%s made a 3 pointer\" % player\n        else:\n            print \"%s missed a 3 pointer\" %player\n    else:  ##Free Throw\n        numft = \n        pass\n    ###Currently only using share of shots to compute free throws. Need to account for when free throws actually occur. Also, when free throw occurs, needs to assign a foul.\n    return success\n\n         else:\n            numft = numpy.random.binomial(1,.8)+1   ##number of FTs shot by player. Need to revist .8 probability to see if there is a measure of how many FTs shot\n            if numft == 1: ## only one shot\n                  success= numpy.random.binomial(1,ftmake)*1\n                  print \"made\", success, \"of 1 FT's\"\n                  return success\n            else: ## 1 and 1 or double bonus situations\n                success1=numpy.random.binomial(1,ftmake)*1\n                if success1==0:  ##missed first ft\n                    doublebonus = numpy.random.binomial(1,.8) ##roll to see if we get second shot\n                    if doublebonus == 1: ## This is a double bonus situation\n                        success2=numpy.random.binomial(1,ftmake)*1\n                        success= 0+success2\n                        if success2>0:\n                            print \"made 1 of 2 FT's missing first, double bonus\"\n                        else:\n                            print \"missed both FT's, double bonus\"\n                        return success\n                    else: ## This is a one and one situation\n                        print \"missed the front end of a 1 and 1\"\n                        return success\n                else: ##made first ft\n                    success2=numpy.random.binomial(1,ftmake)*1\n                    success= 1+success2\n                    print \"made\", success, \"of 2FT's, making first\"\n                    return success\n    ##return success  ###Make sure we account for make, miss rebound issues",
     "language": "python",
     "metadata": {},
     "outputs": []
    },
    {
     "cell_type": "markdown",
     "metadata": {},
     "source": "###Situations which result in foul shots\n* fouled shooting a two, miss two  => 2 shots\n* fouled shooting a two, make two  => 1 shot\n* fouled shooting a three, miss three => 3 shots\n* fouled shooting a three, make three => 1 shot\n* Technical foul => 1 shot\n* fouled not shooting, one and bonus => 1 or 2 shots\n* fouled not shooting, double bonus => 2 shots"
    },
    {
     "cell_type": "markdown",
     "metadata": {},
     "source": "Here is the formula for incrementing FGA accounting for being fouled\n    \n    Shot taken - (Fouled * (1-shot make))       "
    },
    {
     "cell_type": "code",
     "collapsed": false,
     "input": "def foulFcn(player):\n    fouled = np.random.binomial(1,.4)\n    if fouled ==1:\n        if player in HomeTeam:\n            fouler = random.choice(AwayTeam)\n            fouler.persfoul()\n        else:\n            fouler = random.choice(HomeTeam)\n            fouler.persfoul()\n    return fouled",
     "language": "python",
     "metadata": {},
     "outputs": [],
     "prompt_number": 81
    },
    {
     "cell_type": "code",
     "collapsed": false,
     "input": "def twoPtFGA(player,fouled,tworate):\n    attempt = 2\n    success = np.random.binomial(1,tworate)*2\n    if success>0:\n        success += fouled*player.freethrow()\n        pbp = \"%s %s made a 2 pointer\" %(player.firstName(), player.lastName())\n        if fouled==1:\n            pbp = pbp + ' and was fouled, resulting in a %s point play' % success\n    else:\n        success += fouled*player.freethrow()\n        success += fouled*player.freethrow()\n        pbp = \"%s %s missed a 2 pointer\" %(player.firstName(), player.lastName())\n        if fouled==1:\n            pbp = pbp + ' But was fouled, resulting in a %s point play' % success\n            \n    return attempt, success, pbp",
     "language": "python",
     "metadata": {},
     "outputs": [],
     "prompt_number": 68
    },
    {
     "cell_type": "code",
     "collapsed": false,
     "input": "def threePtFGA(player,fouled,threerate):    \n    attempt=3\n    success = np.random.binomial(1,threerate)*3\n    if success>0:\n        success += fouled*player.freethrow()\n        pbp =  \"%s %s made a 3 pointer\" %(player.firstName(), player.lastName())\n        if fouled==1:\n            pbp = pbp + ' and was fouled, resulting in a %s point play' % success\n    else:\n        success += fouled*player.freethrow()\n        success += fouled*player.freethrow()\n        success += fouled*player.freethrow()\n        pbp = \"%s %s missed a 3 pointer\" %(player.firstName(), player.lastName())\n        if fouled==1:\n            pbp = pbp + ' But was fouled, resulting in a %s point play' % success\n            \n    return attempt, success, pbp",
     "language": "python",
     "metadata": {},
     "outputs": [],
     "prompt_number": 69
    },
    {
     "cell_type": "markdown",
     "metadata": {},
     "source": "Below is an abridged version of the `jumpshot` function that employs nested functions `foulFcn`, `twoPtGMA`, and `threePtFGA`. The code directly below is the unabridged version with the coat not wrapped in functions"
    },
    {
     "cell_type": "code",
     "collapsed": false,
     "input": "def jumpshot(player):\n    twocount = player.fga()     ##Map this to the rate at which a player shoots 2pts  \n    threecount = player.p3fga()  ##Map this to the rate at which a player shoots 3pts\n    twomake = player.fgm()     ##Map this to the players success rate at 2ptrs       \n    threemake = player.p3fgm()   ##Map this to the players success rate at 3ptrs      \n    success = 0\n    totalshots = twocount + threecount     ##Double check to make sure FT's aren't overweighted using this\n    \n    fouled = foulFcn(player)    \n    \n    tworate = twomake/float(twocount)\n    \n    threerate = threemake/float(threecount)\n\n    #Choosing the type of shot taken\n    shottype = np.random.uniform(0,totalshots)\n    if shottype <= twocount:   #Two point\n        attempt,success,pbp = twoPtFGA(player,fouled,tworate)\n    else:  ##Three pointer\n        attempt,success,pbp = threePtFGA(player,fouled,threerate)\n    \n    #player.game_FGA.append(attempt)\n    #player.game_FGM.append(success)\n    \n    print pbp\n    return [fouled,attempt,success]\n",
     "language": "python",
     "metadata": {},
     "outputs": [],
     "prompt_number": 66
    },
    {
     "cell_type": "markdown",
     "metadata": {},
     "source": "unabridged `jumpshot` function"
    },
    {
     "cell_type": "code",
     "collapsed": false,
     "input": "def jumpshot(player):\n    twocount = player.fga()     ##Map this to the rate at which a player shoots 2pts  \n    threecount = player.p3fga()  ##Map this to the rate at which a player shoots 3pts\n    twomake = player.fgm()     ##Map this to the players success rate at 2ptrs       \n    threemake = player.p3fgm()   ##Map this to the players success rate at 3ptrs      \n    success = 0\n    totalshots = twocount + threecount     ##Double check to make sure FT's aren't overweighted using this\n    \n    fouled = np.random.binomial(1,.4)\n    if fouled ==1:\n        if player in HomeTeam:\n            fouler = random.choice(AwayTeam)\n            fouler.persfoul()\n        else:\n            fouler = random.choice(HomeTeam)\n            fouler.persfoul()    \n    \n    tworate = twomake/float(twocount)\n    \n    threerate = threemake/float(threecount)\n\n    #Choosing the type of shot taken\n    shottype = np.random.uniform(0,totalshots)\n    if shottype <= twocount:   #Two point\n        attempt = 2\n        success = np.random.binomial(1,tworate)*2\n        if success>0:\n            success += fouled*player.freethrow()\n            pbp = \"%s %s made a 2 pointer\" %(player.firstName(), player.lastName())\n            if fouled==1:\n               pbp = pbp + ' and was fouled resulting in a %s point play' % success\n        else:\n            success += fouled*player.freethrow()\n            success += fouled*player.freethrow()\n            pbp = \"%s %s missed a 2 pointer\" %(player.firstName(), player.lastName())\n            if fouled==1:\n                pbp = pbp + ' But was fouled resulting in a %s point play' % success\n    else:  ##Three pointer\n        attempt=3\n        success = np.random.binomial(1,threerate)*3\n        if success>0:\n            success += fouled*player.freethrow()\n            pbp =  \"%s %s made a 3 pointer\" %(player.firstName(), player.lastName())\n            if fouled==1:\n                pbp = pbp + ' and was fouled resulting in a %s point play' % success\n        else:\n            success += fouled*player.freethrow()\n            success += fouled*player.freethrow()\n            success += fouled*player.freethrow()\n            pbp = \"%s %s missed a 3 pointer\" %(player.firstName(), player.lastName())\n            if fouled==1:\n                pbp = pbp + ' But was fouled resulting in a %s point play' % success\n    #player.game_FGA.append(attempt)\n    #player.game_FGM.append(success)\n    print pbp\n    return [fouled,attempt,success]\n",
     "language": "python",
     "metadata": {},
     "outputs": [],
     "prompt_number": 165
    },
    {
     "cell_type": "markdown",
     "metadata": {},
     "source": "---\n###`player` class definition"
    },
    {
     "cell_type": "code",
     "collapsed": false,
     "input": "class Player():\n    #def __init__(self, FTM, TwM, ThM, FTA, TwA, ThA, TOr, MIN, Frate, lname, fname, team):\n    def __init__(self,player):\n        self._FTM = player[0]\n        self._FTA = player[3]\n        self._FGM = player[1]+player[2]\n        self._FGA = player[4]+player[5]\n        self._P3FGM = player[2]\n        self._P3FGA = player[5]\n        #self._REB = RBr\n        self._TO = player[6]\n        self._MIN = player[7]\n        self._FORCE = player[8]\n        self._LName = player[9]\n        self._FName = player[10]\n        self._TEAM = player[11]\n        self._FTRate = self._FTM/float(self._FTA)\n        self.game_pfoul = 0  ##delete and add to game subclass\n\n    def lastName(self):\n        return self._LName\n    def firstName(self):\n        return self._FName\n    def team(self):\n        return self._TEAM\n    def fgm(self):\n        return self._FGM\n    def fga(self):\n        return self._FGA\n    def p3fgm(self):\n        return self._P3FGM\n    def p3fga(self):\n        return self._P3FGA\n    def minutes(self):\n        return self._MIN\n    def playtime(self):\n        return self._PT\n        \n    def freethrow(self):\n        ftmake = np.random.binomial(1,self._FTRate)\n        return ftmake\n    \n    def playprob(self, teammin):\n        self._PT = self._MIN/float(teammin)\n\n        \n    ##Game class\n    \n    def persfoul(self):\n        self.game_pfoul+=1\n        print '%s %s committed a personal foul' %(self._FName, self._LName)\n        if self.game_pfoul == 6:\n            self._MIN = 0\n            print '%s %s fouled out!' %(self._FName, self._LName)\n            \n    ",
     "language": "python",
     "metadata": {},
     "outputs": [],
     "prompt_number": 10
    },
    {
     "cell_type": "code",
     "collapsed": false,
     "input": "    \n    ##These are Cumulative Season Stats\n    FGM= FGA= P3FGM= P3FGA= FTM= FTA=0\n    OREB= DREB=0\n    REB=OREB+DREB\n    AST= STL= BLK= TO= PF=0\n    FGPct= P3FGPct= FTPct=0\n    PTS=2*(FGM-P3FGM)+3*P3FGM+1*FTM\n    Team = \"FreeAgent\"\n    \n    ##These are in-game stats\n    \n            def __init__(self):\n                self.FGM = self.FGM\n                self.FGA = self.FGA\n                self.P3FGA = self.P3FGA\n                self.P3FGM = self.P3FGM\n                self.FTM = self.FTM\n                self.FTA = self.FTA\n                self.OREB = self.OREB\n                self.DREB = self.DREB\n                self.REB = self.REB\n                self.AST = self.AST\n                self.STL = self.STL\n                self.BLK = self.BLK\n                self.TO = self.TO\n                self.PF = self.PF\n    \n        def shooting(self):\n            try:\n                self.FGPct=float(self.FGM)/float(self.FGA)\n                self.P3FGPct=float(self.P3FGM)/float(self.P3FGA)\n                self.FTPct=float(self.FTM)/float(self.FTA)\n            except: ZeroDivisionError\n                print self.FGPct, self.P3FGPct, self.FTPct\n        \n        def freethrow(self):\n            ftmake = np.random.binomial(1,self.FTRate)\n            return ftmake",
     "language": "python",
     "metadata": {},
     "outputs": [
      {
       "ename": "IndentationError",
       "evalue": "unexpected indent (<ipython-input-140-b2e8cc723bcb>, line 3)",
       "output_type": "pyerr",
       "traceback": [
        "\u001b[1;36m  File \u001b[1;32m\"<ipython-input-140-b2e8cc723bcb>\"\u001b[1;36m, line \u001b[1;32m3\u001b[0m\n\u001b[1;33m    FGM= FGA= P3FGM= P3FGA= FTM= FTA=0\u001b[0m\n\u001b[1;37m    ^\u001b[0m\n\u001b[1;31mIndentationError\u001b[0m\u001b[1;31m:\u001b[0m unexpected indent\n"
       ]
      }
     ],
     "prompt_number": 140
    },
    {
     "cell_type": "markdown",
     "metadata": {},
     "source": "###`Team` Class specification\n\nNeed to figure out how to assign a class to a list where the list is comprised of objects.\n\nBasically, I want to compute team statistics using numbers that are taken from the members of the team. For example, to compute the total number of minutes played on a list of `[Player1, Player2]` where element of the list is an object with an attribute `._PT`"
    },
    {
     "cell_type": "code",
     "collapsed": false,
     "input": "class Team():\n    def __init__(self):\n        self._Conference = 'conference'\n        self._Division = 'division'\n        \n    def DIV(self):\n        return self._Division\n    \n    def oncourt(self):        \n        _playerMin =[]\n        for x in self:\n            _playerMin.append(x.minutes())\n        teamMin = sum(_playermin)",
     "language": "python",
     "metadata": {},
     "outputs": [],
     "prompt_number": 51
    },
    {
     "cell_type": "code",
     "collapsed": false,
     "input": "x=0\nwhile x <100:\n    jumpshot(HomeTeam[0])\n    x+=1",
     "language": "python",
     "metadata": {},
     "outputs": [
      {
       "output_type": "stream",
       "stream": "stdout",
       "text": "Kristen Milan committed a personal foul\nDaniel McIntosh made a 2 pointer and was fouled resulting in a 3 point play\nDaniel McIntosh missed a 3 pointer\nDaniel McIntosh made a 3 pointer\nKristen Lee committed a personal foul\nDaniel McIntosh missed a 2 pointer But was fouled resulting in a 1 point play\nDaniel McIntosh missed a 2 pointer\nDaniel McIntosh made a 2 pointer\nDaniel McIntosh made a 2 pointer\nDaniel McIntosh made a 2 pointer\nDaniel McIntosh missed a 3 pointer\nKristen Mooney committed a personal foul\nDaniel McIntosh made a 2 pointer and was fouled resulting in a 3 point play\nDaniel McIntosh missed a 2 pointer\nDaniel McIntosh made a 2 pointer\nDaniel McIntosh made a 2 pointer\nDaniel McIntosh missed a 2 pointer\nKristen Yanni committed a personal foul\nDaniel McIntosh made a 2 pointer and was fouled resulting in a 3 point play\nKristen Mooney committed a personal foul\nDaniel McIntosh missed a 2 pointer But was fouled resulting in a 2 point play\nKristen Yanni committed a personal foul\nDaniel McIntosh made a 2 pointer and was fouled resulting in a 3 point play\nDaniel McIntosh made a 2 pointer\nDaniel McIntosh made a 2 pointer\nKristen Walsh committed a personal foul\nDaniel McIntosh missed a 2 pointer But was fouled resulting in a 1 point play\nKristen Walsh committed a personal foul\nDaniel McIntosh made a 2 pointer and was fouled resulting in a 3 point play\nDaniel McIntosh missed a 2 pointer\nKristen Gerken committed a personal foul\nDaniel McIntosh missed a 2 pointer But was fouled resulting in a 2 point play\nKristen Walsh committed a personal foul\nKristen Walsh fouled out!\nDaniel McIntosh made a 2 pointer and was fouled resulting in a 2 point play\nDaniel McIntosh missed a 2 pointer\nKristen Walsh committed a personal foul\nDaniel McIntosh made a 2 pointer and was fouled resulting in a 2 point play\nDaniel McIntosh missed a 3 pointer\nKristen Walsh committed a personal foul\nDaniel McIntosh missed a 2 pointer But was fouled resulting in a 1 point play\nDaniel McIntosh missed a 3 pointer\nKristen Gerken committed a personal foul\nDaniel McIntosh missed a 2 pointer But was fouled resulting in a 2 point play\nKristen Bourke committed a personal foul\nDaniel McIntosh missed a 2 pointer But was fouled resulting in a 2 point play\nDaniel McIntosh made a 2 pointer\nDaniel McIntosh missed a 2 pointer\nDaniel McIntosh missed a 2 pointer\nDaniel McIntosh made a 2 pointer\nKristen Rubens committed a personal foul\nDaniel McIntosh made a 2 pointer and was fouled resulting in a 3 point play\nKristen Rubens committed a personal foul\nDaniel McIntosh missed a 2 pointer But was fouled resulting in a 2 point play\nKristen Gerken committed a personal foul\nDaniel McIntosh missed a 2 pointer But was fouled resulting in a 2 point play\nDaniel McIntosh missed a 2 pointer\nDaniel McIntosh made a 2 pointer\nDaniel McIntosh made a 2 pointer\nKristen Bourke committed a personal foul\nDaniel McIntosh missed a 2 pointer But was fouled resulting in a 1 point play\nDaniel McIntosh missed a 2 pointer\nDaniel McIntosh made a 2 pointer\nDaniel McIntosh missed a 3 pointer\nDaniel McIntosh made a 2 pointer\nKristen Yanni committed a personal foul\nDaniel McIntosh missed a 3 pointer But was fouled resulting in a 2 point play\nDaniel McIntosh missed a 2 pointer\nDaniel McIntosh made a 2 pointer\nKristen Walsh committed a personal foul\nDaniel McIntosh made a 2 pointer and was fouled resulting in a 3 point play\nDaniel McIntosh missed a 2 pointer\nKristen Bourke committed a personal foul\nDaniel McIntosh made a 3 pointer and was fouled resulting in a 4 point play\nDaniel McIntosh missed a 3 pointer\nKristen Bourke committed a personal foul\nDaniel McIntosh missed a 2 pointer But was fouled resulting in a 1 point play\nDaniel McIntosh made a 2 pointer\nDaniel McIntosh missed a 3 pointer\nKristen Rubens committed a personal foul\nDaniel McIntosh missed a 2 pointer But was fouled resulting in a 1 point play\nDaniel McIntosh missed a 2 pointer\nKristen Rubens committed a personal foul\nKristen Rubens fouled out!\nDaniel McIntosh missed a 2 pointer But was fouled resulting in a 2 point play\nKristen Bourke committed a personal foul\nKristen Bourke fouled out!\nDaniel McIntosh missed a 2 pointer But was fouled resulting in a 1 point play\nKristen Lee committed a personal foul\nDaniel McIntosh missed a 3 pointer But was fouled resulting in a 3 point play\nDaniel McIntosh missed a 2 pointer\nDaniel McIntosh missed a 2 pointer\nKristen Yanni committed a personal foul\nDaniel McIntosh made a 2 pointer and was fouled resulting in a 2 point play\nKristen Lang committed a personal foul\nDaniel McIntosh made a 2 pointer and was fouled resulting in a 3 point play\nDaniel McIntosh missed a 2 pointer\nDaniel McIntosh missed a 2 pointer\nKristen Lang committed a personal foul\nDaniel McIntosh made a 2 pointer and was fouled resulting in a 3 point play\nDaniel McIntosh made a 3 pointer\nDaniel McIntosh missed a 2 pointer\nKristen Yanni committed a personal foul\nKristen Yanni fouled out!\nDaniel McIntosh made a 2 pointer and was fouled resulting in a 3 point play\nKristen Bourke committed a personal foul\nDaniel McIntosh missed a 2 pointer But was fouled resulting in a 1 point play\nDaniel McIntosh missed a 2 pointer\nKristen Sambrook committed a personal foul\nDaniel McIntosh made a 3 pointer and was fouled resulting in a 3 point play\nDaniel McIntosh missed a 2 pointer\nDaniel McIntosh made a 2 pointer\nKristen Lee committed a personal foul\nDaniel McIntosh missed a 2 pointer But was fouled resulting in a 2 point play\nDaniel McIntosh missed a 2 pointer\nDaniel McIntosh made a 2 pointer\nDaniel McIntosh made a 2 pointer\nDaniel McIntosh made a 2 pointer\nKristen Sambrook committed a personal foul\nDaniel McIntosh made a 3 pointer and was fouled resulting in a 3 point play\nKristen Lee committed a personal foul\nDaniel McIntosh missed a 2 pointer But was fouled resulting in a 2 point play\nDaniel McIntosh made a 2 pointer\nKristen Mooney committed a personal foul\nDaniel McIntosh missed a 2 pointer But was fouled resulting in a 1 point play\nDaniel McIntosh made a 2 pointer\nDaniel McIntosh missed a 3 pointer\nKristen Yanni committed a personal foul\nDaniel McIntosh missed a 2 pointer But was fouled resulting in a 2 point play\nKristen Sambrook committed a personal foul\nDaniel McIntosh missed a 2 pointer But was fouled resulting in a 2 point play\nDaniel McIntosh missed a 2 pointer\nDaniel McIntosh made a 2 pointer\nDaniel McIntosh missed a 2 pointer\nDaniel McIntosh missed a 3 pointer\nDaniel McIntosh made a 2 pointer\nDaniel McIntosh missed a 2 pointer\nKristen Mooney committed a personal foul\nDaniel McIntosh made a 2 pointer and was fouled resulting in a 3 point play\nDaniel McIntosh made a 3 pointer\nDaniel McIntosh missed a 2 pointer\nDaniel McIntosh made a 2 pointer\nDaniel McIntosh made a 3 pointer\n"
      }
     ],
     "prompt_number": 82
    },
    {
     "cell_type": "code",
     "collapsed": false,
     "input": "",
     "language": "python",
     "metadata": {},
     "outputs": []
    }
   ],
   "metadata": {}
  }
 ]
}
